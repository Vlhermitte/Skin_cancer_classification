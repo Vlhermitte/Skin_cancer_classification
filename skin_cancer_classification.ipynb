{
 "cells": [
  {
   "cell_type": "markdown",
   "source": [
    "# Get the data from :\n",
    "https://www.kaggle.com/datasets/farjanakabirsamanta/skin-cancer-dataset"
   ],
   "metadata": {
    "collapsed": false
   }
  },
  {
   "cell_type": "code",
   "execution_count": 1,
   "metadata": {
    "collapsed": true
   },
   "outputs": [],
   "source": [
    "import tensorflow as tf\n",
    "import pandas as pd\n",
    "import matplotlib.pyplot as plt"
   ]
  },
  {
   "cell_type": "code",
   "execution_count": 2,
   "outputs": [
    {
     "data": {
      "text/plain": "'2.10.0'"
     },
     "execution_count": 2,
     "metadata": {},
     "output_type": "execute_result"
    }
   ],
   "source": [
    "tf.__version__"
   ],
   "metadata": {
    "collapsed": false
   }
  },
  {
   "cell_type": "code",
   "execution_count": 3,
   "outputs": [
    {
     "data": {
      "text/plain": "[PhysicalDevice(name='/physical_device:CPU:0', device_type='CPU'),\n PhysicalDevice(name='/physical_device:GPU:0', device_type='GPU')]"
     },
     "execution_count": 3,
     "metadata": {},
     "output_type": "execute_result"
    }
   ],
   "source": [
    "tf.config.list_physical_devices()"
   ],
   "metadata": {
    "collapsed": false
   }
  },
  {
   "cell_type": "markdown",
   "source": [
    "# Matching the images to the csv file"
   ],
   "metadata": {
    "collapsed": false
   }
  },
  {
   "cell_type": "code",
   "execution_count": 4,
   "outputs": [],
   "source": [
    "metadata = pd.read_csv(\"./skin_cancer/HAM10000_metadata.csv\")"
   ],
   "metadata": {
    "collapsed": false
   }
  },
  {
   "cell_type": "code",
   "execution_count": 5,
   "outputs": [
    {
     "data": {
      "text/plain": "nv       6705\nmel      1113\nbkl      1099\nbcc       514\nakiec     327\nvasc      142\ndf        115\nName: dx, dtype: int64"
     },
     "execution_count": 5,
     "metadata": {},
     "output_type": "execute_result"
    }
   ],
   "source": [
    "metadata.dx.value_counts()"
   ],
   "metadata": {
    "collapsed": false
   }
  },
  {
   "cell_type": "code",
   "execution_count": 6,
   "outputs": [],
   "source": [
    "metadata['filename']= metadata['image_id'] + '.jpg'"
   ],
   "metadata": {
    "collapsed": false
   }
  },
  {
   "cell_type": "markdown",
   "source": [
    "# Importing the data to Tensorflow"
   ],
   "metadata": {
    "collapsed": false
   }
  },
  {
   "cell_type": "code",
   "execution_count": 7,
   "outputs": [
    {
     "data": {
      "text/plain": "         lesion_id      image_id     dx dx_type   age     sex localization  \\\n0      HAM_0000118  ISIC_0027419    bkl   histo  80.0    male        scalp   \n1      HAM_0000118  ISIC_0025030    bkl   histo  80.0    male        scalp   \n2      HAM_0002730  ISIC_0026769    bkl   histo  80.0    male        scalp   \n3      HAM_0002730  ISIC_0025661    bkl   histo  80.0    male        scalp   \n4      HAM_0001466  ISIC_0031633    bkl   histo  75.0    male          ear   \n...            ...           ...    ...     ...   ...     ...          ...   \n10010  HAM_0002867  ISIC_0033084  akiec   histo  40.0    male      abdomen   \n10011  HAM_0002867  ISIC_0033550  akiec   histo  40.0    male      abdomen   \n10012  HAM_0002867  ISIC_0033536  akiec   histo  40.0    male      abdomen   \n10013  HAM_0000239  ISIC_0032854  akiec   histo  80.0    male         face   \n10014  HAM_0003521  ISIC_0032258    mel   histo  70.0  female         back   \n\n               filename  \n0      ISIC_0027419.jpg  \n1      ISIC_0025030.jpg  \n2      ISIC_0026769.jpg  \n3      ISIC_0025661.jpg  \n4      ISIC_0031633.jpg  \n...                 ...  \n10010  ISIC_0033084.jpg  \n10011  ISIC_0033550.jpg  \n10012  ISIC_0033536.jpg  \n10013  ISIC_0032854.jpg  \n10014  ISIC_0032258.jpg  \n\n[10015 rows x 8 columns]",
      "text/html": "<div>\n<style scoped>\n    .dataframe tbody tr th:only-of-type {\n        vertical-align: middle;\n    }\n\n    .dataframe tbody tr th {\n        vertical-align: top;\n    }\n\n    .dataframe thead th {\n        text-align: right;\n    }\n</style>\n<table border=\"1\" class=\"dataframe\">\n  <thead>\n    <tr style=\"text-align: right;\">\n      <th></th>\n      <th>lesion_id</th>\n      <th>image_id</th>\n      <th>dx</th>\n      <th>dx_type</th>\n      <th>age</th>\n      <th>sex</th>\n      <th>localization</th>\n      <th>filename</th>\n    </tr>\n  </thead>\n  <tbody>\n    <tr>\n      <th>0</th>\n      <td>HAM_0000118</td>\n      <td>ISIC_0027419</td>\n      <td>bkl</td>\n      <td>histo</td>\n      <td>80.0</td>\n      <td>male</td>\n      <td>scalp</td>\n      <td>ISIC_0027419.jpg</td>\n    </tr>\n    <tr>\n      <th>1</th>\n      <td>HAM_0000118</td>\n      <td>ISIC_0025030</td>\n      <td>bkl</td>\n      <td>histo</td>\n      <td>80.0</td>\n      <td>male</td>\n      <td>scalp</td>\n      <td>ISIC_0025030.jpg</td>\n    </tr>\n    <tr>\n      <th>2</th>\n      <td>HAM_0002730</td>\n      <td>ISIC_0026769</td>\n      <td>bkl</td>\n      <td>histo</td>\n      <td>80.0</td>\n      <td>male</td>\n      <td>scalp</td>\n      <td>ISIC_0026769.jpg</td>\n    </tr>\n    <tr>\n      <th>3</th>\n      <td>HAM_0002730</td>\n      <td>ISIC_0025661</td>\n      <td>bkl</td>\n      <td>histo</td>\n      <td>80.0</td>\n      <td>male</td>\n      <td>scalp</td>\n      <td>ISIC_0025661.jpg</td>\n    </tr>\n    <tr>\n      <th>4</th>\n      <td>HAM_0001466</td>\n      <td>ISIC_0031633</td>\n      <td>bkl</td>\n      <td>histo</td>\n      <td>75.0</td>\n      <td>male</td>\n      <td>ear</td>\n      <td>ISIC_0031633.jpg</td>\n    </tr>\n    <tr>\n      <th>...</th>\n      <td>...</td>\n      <td>...</td>\n      <td>...</td>\n      <td>...</td>\n      <td>...</td>\n      <td>...</td>\n      <td>...</td>\n      <td>...</td>\n    </tr>\n    <tr>\n      <th>10010</th>\n      <td>HAM_0002867</td>\n      <td>ISIC_0033084</td>\n      <td>akiec</td>\n      <td>histo</td>\n      <td>40.0</td>\n      <td>male</td>\n      <td>abdomen</td>\n      <td>ISIC_0033084.jpg</td>\n    </tr>\n    <tr>\n      <th>10011</th>\n      <td>HAM_0002867</td>\n      <td>ISIC_0033550</td>\n      <td>akiec</td>\n      <td>histo</td>\n      <td>40.0</td>\n      <td>male</td>\n      <td>abdomen</td>\n      <td>ISIC_0033550.jpg</td>\n    </tr>\n    <tr>\n      <th>10012</th>\n      <td>HAM_0002867</td>\n      <td>ISIC_0033536</td>\n      <td>akiec</td>\n      <td>histo</td>\n      <td>40.0</td>\n      <td>male</td>\n      <td>abdomen</td>\n      <td>ISIC_0033536.jpg</td>\n    </tr>\n    <tr>\n      <th>10013</th>\n      <td>HAM_0000239</td>\n      <td>ISIC_0032854</td>\n      <td>akiec</td>\n      <td>histo</td>\n      <td>80.0</td>\n      <td>male</td>\n      <td>face</td>\n      <td>ISIC_0032854.jpg</td>\n    </tr>\n    <tr>\n      <th>10014</th>\n      <td>HAM_0003521</td>\n      <td>ISIC_0032258</td>\n      <td>mel</td>\n      <td>histo</td>\n      <td>70.0</td>\n      <td>female</td>\n      <td>back</td>\n      <td>ISIC_0032258.jpg</td>\n    </tr>\n  </tbody>\n</table>\n<p>10015 rows × 8 columns</p>\n</div>"
     },
     "execution_count": 7,
     "metadata": {},
     "output_type": "execute_result"
    }
   ],
   "source": [
    "metadata"
   ],
   "metadata": {
    "collapsed": false
   }
  },
  {
   "cell_type": "code",
   "execution_count": 8,
   "outputs": [],
   "source": [
    "from sklearn.model_selection import train_test_split"
   ],
   "metadata": {
    "collapsed": false
   }
  },
  {
   "cell_type": "code",
   "execution_count": 9,
   "outputs": [],
   "source": [
    "train_df, test_df = train_test_split(metadata, test_size=0.1)"
   ],
   "metadata": {
    "collapsed": false
   }
  },
  {
   "cell_type": "code",
   "execution_count": 10,
   "outputs": [
    {
     "data": {
      "text/plain": "        lesion_id      image_id     dx    dx_type   age     sex  \\\n3115  HAM_0005661  ISIC_0025053     nv  follow_up  50.0  female   \n8776  HAM_0002518  ISIC_0032028     nv      histo  60.0    male   \n1864  HAM_0000176  ISIC_0033073    mel      histo  65.0    male   \n2898  HAM_0006904  ISIC_0027291    bcc      histo  70.0    male   \n7948  HAM_0006559  ISIC_0034056     nv      histo  25.0  female   \n...           ...           ...    ...        ...   ...     ...   \n5475  HAM_0003658  ISIC_0026379     nv  follow_up  45.0    male   \n3669  HAM_0005088  ISIC_0031647     nv  follow_up  50.0  female   \n8472  HAM_0006210  ISIC_0026454     nv      histo  50.0    male   \n5223  HAM_0002125  ISIC_0025502     nv  follow_up  50.0    male   \n9927  HAM_0006301  ISIC_0031823  akiec      histo  75.0    male   \n\n         localization          filename  \n3115          abdomen  ISIC_0025053.jpg  \n8776          abdomen  ISIC_0032028.jpg  \n1864  upper extremity  ISIC_0033073.jpg  \n2898             back  ISIC_0027291.jpg  \n7948              ear  ISIC_0034056.jpg  \n...               ...               ...  \n5475            trunk  ISIC_0026379.jpg  \n3669            trunk  ISIC_0031647.jpg  \n8472             back  ISIC_0026454.jpg  \n5223            trunk  ISIC_0025502.jpg  \n9927             neck  ISIC_0031823.jpg  \n\n[9013 rows x 8 columns]",
      "text/html": "<div>\n<style scoped>\n    .dataframe tbody tr th:only-of-type {\n        vertical-align: middle;\n    }\n\n    .dataframe tbody tr th {\n        vertical-align: top;\n    }\n\n    .dataframe thead th {\n        text-align: right;\n    }\n</style>\n<table border=\"1\" class=\"dataframe\">\n  <thead>\n    <tr style=\"text-align: right;\">\n      <th></th>\n      <th>lesion_id</th>\n      <th>image_id</th>\n      <th>dx</th>\n      <th>dx_type</th>\n      <th>age</th>\n      <th>sex</th>\n      <th>localization</th>\n      <th>filename</th>\n    </tr>\n  </thead>\n  <tbody>\n    <tr>\n      <th>3115</th>\n      <td>HAM_0005661</td>\n      <td>ISIC_0025053</td>\n      <td>nv</td>\n      <td>follow_up</td>\n      <td>50.0</td>\n      <td>female</td>\n      <td>abdomen</td>\n      <td>ISIC_0025053.jpg</td>\n    </tr>\n    <tr>\n      <th>8776</th>\n      <td>HAM_0002518</td>\n      <td>ISIC_0032028</td>\n      <td>nv</td>\n      <td>histo</td>\n      <td>60.0</td>\n      <td>male</td>\n      <td>abdomen</td>\n      <td>ISIC_0032028.jpg</td>\n    </tr>\n    <tr>\n      <th>1864</th>\n      <td>HAM_0000176</td>\n      <td>ISIC_0033073</td>\n      <td>mel</td>\n      <td>histo</td>\n      <td>65.0</td>\n      <td>male</td>\n      <td>upper extremity</td>\n      <td>ISIC_0033073.jpg</td>\n    </tr>\n    <tr>\n      <th>2898</th>\n      <td>HAM_0006904</td>\n      <td>ISIC_0027291</td>\n      <td>bcc</td>\n      <td>histo</td>\n      <td>70.0</td>\n      <td>male</td>\n      <td>back</td>\n      <td>ISIC_0027291.jpg</td>\n    </tr>\n    <tr>\n      <th>7948</th>\n      <td>HAM_0006559</td>\n      <td>ISIC_0034056</td>\n      <td>nv</td>\n      <td>histo</td>\n      <td>25.0</td>\n      <td>female</td>\n      <td>ear</td>\n      <td>ISIC_0034056.jpg</td>\n    </tr>\n    <tr>\n      <th>...</th>\n      <td>...</td>\n      <td>...</td>\n      <td>...</td>\n      <td>...</td>\n      <td>...</td>\n      <td>...</td>\n      <td>...</td>\n      <td>...</td>\n    </tr>\n    <tr>\n      <th>5475</th>\n      <td>HAM_0003658</td>\n      <td>ISIC_0026379</td>\n      <td>nv</td>\n      <td>follow_up</td>\n      <td>45.0</td>\n      <td>male</td>\n      <td>trunk</td>\n      <td>ISIC_0026379.jpg</td>\n    </tr>\n    <tr>\n      <th>3669</th>\n      <td>HAM_0005088</td>\n      <td>ISIC_0031647</td>\n      <td>nv</td>\n      <td>follow_up</td>\n      <td>50.0</td>\n      <td>female</td>\n      <td>trunk</td>\n      <td>ISIC_0031647.jpg</td>\n    </tr>\n    <tr>\n      <th>8472</th>\n      <td>HAM_0006210</td>\n      <td>ISIC_0026454</td>\n      <td>nv</td>\n      <td>histo</td>\n      <td>50.0</td>\n      <td>male</td>\n      <td>back</td>\n      <td>ISIC_0026454.jpg</td>\n    </tr>\n    <tr>\n      <th>5223</th>\n      <td>HAM_0002125</td>\n      <td>ISIC_0025502</td>\n      <td>nv</td>\n      <td>follow_up</td>\n      <td>50.0</td>\n      <td>male</td>\n      <td>trunk</td>\n      <td>ISIC_0025502.jpg</td>\n    </tr>\n    <tr>\n      <th>9927</th>\n      <td>HAM_0006301</td>\n      <td>ISIC_0031823</td>\n      <td>akiec</td>\n      <td>histo</td>\n      <td>75.0</td>\n      <td>male</td>\n      <td>neck</td>\n      <td>ISIC_0031823.jpg</td>\n    </tr>\n  </tbody>\n</table>\n<p>9013 rows × 8 columns</p>\n</div>"
     },
     "execution_count": 10,
     "metadata": {},
     "output_type": "execute_result"
    }
   ],
   "source": [
    "train_df"
   ],
   "metadata": {
    "collapsed": false
   }
  },
  {
   "cell_type": "code",
   "execution_count": 11,
   "outputs": [
    {
     "data": {
      "text/plain": "        lesion_id      image_id     dx    dx_type   age      sex  \\\n7368  HAM_0005248  ISIC_0032902     nv      histo  45.0   female   \n9322  HAM_0001902  ISIC_0029668     nv  consensus   5.0   female   \n9967  HAM_0000462  ISIC_0033869  akiec      histo  60.0   female   \n7494  HAM_0003824  ISIC_0034138     nv      histo  15.0   female   \n6792  HAM_0002856  ISIC_0028154     nv      histo  70.0     male   \n...           ...           ...    ...        ...   ...      ...   \n8038  HAM_0002601  ISIC_0032510     nv  consensus  25.0     male   \n9609  HAM_0003561  ISIC_0034154     nv  consensus   NaN  unknown   \n7867  HAM_0000578  ISIC_0033288     nv      histo  30.0   female   \n6859  HAM_0006030  ISIC_0024618     nv      histo  25.0     male   \n6203  HAM_0000036  ISIC_0024812     nv  follow_up  30.0   female   \n\n         localization          filename  \n7368  upper extremity  ISIC_0032902.jpg  \n9322  lower extremity  ISIC_0029668.jpg  \n9967  lower extremity  ISIC_0033869.jpg  \n7494  lower extremity  ISIC_0034138.jpg  \n6792  upper extremity  ISIC_0028154.jpg  \n...               ...               ...  \n8038          unknown  ISIC_0032510.jpg  \n9609          unknown  ISIC_0034154.jpg  \n7867             back  ISIC_0033288.jpg  \n6859             face  ISIC_0024618.jpg  \n6203            trunk  ISIC_0024812.jpg  \n\n[1002 rows x 8 columns]",
      "text/html": "<div>\n<style scoped>\n    .dataframe tbody tr th:only-of-type {\n        vertical-align: middle;\n    }\n\n    .dataframe tbody tr th {\n        vertical-align: top;\n    }\n\n    .dataframe thead th {\n        text-align: right;\n    }\n</style>\n<table border=\"1\" class=\"dataframe\">\n  <thead>\n    <tr style=\"text-align: right;\">\n      <th></th>\n      <th>lesion_id</th>\n      <th>image_id</th>\n      <th>dx</th>\n      <th>dx_type</th>\n      <th>age</th>\n      <th>sex</th>\n      <th>localization</th>\n      <th>filename</th>\n    </tr>\n  </thead>\n  <tbody>\n    <tr>\n      <th>7368</th>\n      <td>HAM_0005248</td>\n      <td>ISIC_0032902</td>\n      <td>nv</td>\n      <td>histo</td>\n      <td>45.0</td>\n      <td>female</td>\n      <td>upper extremity</td>\n      <td>ISIC_0032902.jpg</td>\n    </tr>\n    <tr>\n      <th>9322</th>\n      <td>HAM_0001902</td>\n      <td>ISIC_0029668</td>\n      <td>nv</td>\n      <td>consensus</td>\n      <td>5.0</td>\n      <td>female</td>\n      <td>lower extremity</td>\n      <td>ISIC_0029668.jpg</td>\n    </tr>\n    <tr>\n      <th>9967</th>\n      <td>HAM_0000462</td>\n      <td>ISIC_0033869</td>\n      <td>akiec</td>\n      <td>histo</td>\n      <td>60.0</td>\n      <td>female</td>\n      <td>lower extremity</td>\n      <td>ISIC_0033869.jpg</td>\n    </tr>\n    <tr>\n      <th>7494</th>\n      <td>HAM_0003824</td>\n      <td>ISIC_0034138</td>\n      <td>nv</td>\n      <td>histo</td>\n      <td>15.0</td>\n      <td>female</td>\n      <td>lower extremity</td>\n      <td>ISIC_0034138.jpg</td>\n    </tr>\n    <tr>\n      <th>6792</th>\n      <td>HAM_0002856</td>\n      <td>ISIC_0028154</td>\n      <td>nv</td>\n      <td>histo</td>\n      <td>70.0</td>\n      <td>male</td>\n      <td>upper extremity</td>\n      <td>ISIC_0028154.jpg</td>\n    </tr>\n    <tr>\n      <th>...</th>\n      <td>...</td>\n      <td>...</td>\n      <td>...</td>\n      <td>...</td>\n      <td>...</td>\n      <td>...</td>\n      <td>...</td>\n      <td>...</td>\n    </tr>\n    <tr>\n      <th>8038</th>\n      <td>HAM_0002601</td>\n      <td>ISIC_0032510</td>\n      <td>nv</td>\n      <td>consensus</td>\n      <td>25.0</td>\n      <td>male</td>\n      <td>unknown</td>\n      <td>ISIC_0032510.jpg</td>\n    </tr>\n    <tr>\n      <th>9609</th>\n      <td>HAM_0003561</td>\n      <td>ISIC_0034154</td>\n      <td>nv</td>\n      <td>consensus</td>\n      <td>NaN</td>\n      <td>unknown</td>\n      <td>unknown</td>\n      <td>ISIC_0034154.jpg</td>\n    </tr>\n    <tr>\n      <th>7867</th>\n      <td>HAM_0000578</td>\n      <td>ISIC_0033288</td>\n      <td>nv</td>\n      <td>histo</td>\n      <td>30.0</td>\n      <td>female</td>\n      <td>back</td>\n      <td>ISIC_0033288.jpg</td>\n    </tr>\n    <tr>\n      <th>6859</th>\n      <td>HAM_0006030</td>\n      <td>ISIC_0024618</td>\n      <td>nv</td>\n      <td>histo</td>\n      <td>25.0</td>\n      <td>male</td>\n      <td>face</td>\n      <td>ISIC_0024618.jpg</td>\n    </tr>\n    <tr>\n      <th>6203</th>\n      <td>HAM_0000036</td>\n      <td>ISIC_0024812</td>\n      <td>nv</td>\n      <td>follow_up</td>\n      <td>30.0</td>\n      <td>female</td>\n      <td>trunk</td>\n      <td>ISIC_0024812.jpg</td>\n    </tr>\n  </tbody>\n</table>\n<p>1002 rows × 8 columns</p>\n</div>"
     },
     "execution_count": 11,
     "metadata": {},
     "output_type": "execute_result"
    }
   ],
   "source": [
    "test_df"
   ],
   "metadata": {
    "collapsed": false
   }
  },
  {
   "cell_type": "code",
   "execution_count": 12,
   "outputs": [],
   "source": [
    "dir_path = './skin_cancer/Skin Cancer/Skin Cancer/'"
   ],
   "metadata": {
    "collapsed": false
   }
  },
  {
   "cell_type": "code",
   "execution_count": 13,
   "outputs": [],
   "source": [
    "# Create generators\n",
    "data_generator = tf.keras.preprocessing.image.ImageDataGenerator(rescale=1/255.0, validation_split=0.1)"
   ],
   "metadata": {
    "collapsed": false
   }
  },
  {
   "cell_type": "code",
   "execution_count": 14,
   "outputs": [],
   "source": [
    "batch_size = 32\n",
    "target_size = (224, 224)"
   ],
   "metadata": {
    "collapsed": false
   }
  },
  {
   "cell_type": "code",
   "execution_count": 15,
   "outputs": [
    {
     "name": "stdout",
     "output_type": "stream",
     "text": [
      "Found 8112 validated image filenames belonging to 7 classes.\n",
      "Found 901 validated image filenames belonging to 7 classes.\n",
      "Found 1002 validated image filenames belonging to 7 classes.\n"
     ]
    }
   ],
   "source": [
    "# Flow image data\n",
    "train_images = data_generator.flow_from_dataframe(\n",
    "    dataframe=train_df,\n",
    "    directory=dir_path,\n",
    "    x_col='filename',\n",
    "    y_col='dx',\n",
    "    subset='training',\n",
    "    shuffle=True,\n",
    "    class_mode='categorical',\n",
    "    target_size=target_size,\n",
    ")\n",
    "\n",
    "val_images = data_generator.flow_from_dataframe(\n",
    "    dataframe=train_df,\n",
    "    directory=dir_path,\n",
    "    x_col='filename',\n",
    "    y_col='dx',\n",
    "    subset='validation',\n",
    "    shuffle=True,\n",
    "    class_mode='categorical',\n",
    "    target_size=target_size,\n",
    ")\n",
    "\n",
    "test_images = data_generator.flow_from_dataframe(\n",
    "    dataframe=test_df,\n",
    "    directory=dir_path,\n",
    "    x_col='filename',\n",
    "    y_col='dx',\n",
    "    class_mode='categorical',\n",
    "    target_size=target_size,\n",
    ")"
   ],
   "metadata": {
    "collapsed": false
   }
  },
  {
   "cell_type": "code",
   "execution_count": 16,
   "outputs": [
    {
     "data": {
      "text/plain": "['akiec', 'bcc', 'bkl', 'df', 'mel', 'nv', 'vasc']"
     },
     "execution_count": 16,
     "metadata": {},
     "output_type": "execute_result"
    }
   ],
   "source": [
    "class_names = list(train_images.class_indices.keys())\n",
    "class_names"
   ],
   "metadata": {
    "collapsed": false
   }
  },
  {
   "cell_type": "code",
   "execution_count": 17,
   "outputs": [
    {
     "data": {
      "text/plain": "((32, 224, 224, 3), (32, 7))"
     },
     "execution_count": 17,
     "metadata": {},
     "output_type": "execute_result"
    }
   ],
   "source": [
    "train_images.next()[0].shape, train_images.next()[1].shape"
   ],
   "metadata": {
    "collapsed": false
   }
  },
  {
   "cell_type": "code",
   "execution_count": 18,
   "outputs": [
    {
     "data": {
      "text/plain": "(224, 224, 3)"
     },
     "execution_count": 18,
     "metadata": {},
     "output_type": "execute_result"
    }
   ],
   "source": [
    "train_images.image_shape"
   ],
   "metadata": {
    "collapsed": false
   }
  },
  {
   "cell_type": "markdown",
   "source": [
    "### Function to plot some images"
   ],
   "metadata": {
    "collapsed": false
   }
  },
  {
   "cell_type": "code",
   "execution_count": 19,
   "outputs": [],
   "source": [
    "def plot_images(train_images):\n",
    "    rows = 2\n",
    "    cols = 4\n",
    "    samples, labels = train_images[0]\n",
    "\n",
    "    plt.figure(figsize=(3.5 * cols, 3.5 * rows))\n",
    "    for i in range(rows * cols):\n",
    "        ax = plt.subplot(rows, cols, i + 1)\n",
    "        plt.imshow(samples[i], cmap='gray')\n",
    "        plt.title(f'Tumor : {class_names[int(labels[i][1])]}')\n",
    "        #plt.axis('off')\n",
    "    plt.show()"
   ],
   "metadata": {
    "collapsed": false
   }
  },
  {
   "cell_type": "markdown",
   "source": [
    "# Now the CNN"
   ],
   "metadata": {
    "collapsed": false
   }
  },
  {
   "cell_type": "code",
   "execution_count": 20,
   "outputs": [],
   "source": [
    "from keras import Sequential\n",
    "from keras.layers import Dense, Flatten, Dropout, Conv2D, MaxPooling2D\n",
    "from keras.losses import CategoricalCrossentropy"
   ],
   "metadata": {
    "collapsed": false
   }
  },
  {
   "cell_type": "code",
   "execution_count": null,
   "outputs": [],
   "source": [
    "model = Sequential([\n",
    "    Conv2D(filters=32, kernel_size=(5, 5), activation='relu', input_shape=train_images.image_shape),\n",
    "    MaxPooling2D((2, 2), padding='same'),\n",
    "    Conv2D(filters=16, kernel_size=(5, 5), activation='relu'),\n",
    "    MaxPooling2D((2, 2), padding='same'),\n",
    "    Flatten(),\n",
    "    Dense(units=128, activation='relu'),\n",
    "    Dropout(0.25),\n",
    "    Dense(units=64, activation='relu'),\n",
    "    Dropout(0.25),\n",
    "    Dense(units=7, activation='softmax')\n",
    "])\n",
    "model.compile(optimizer='adam', loss=CategoricalCrossentropy(), metrics=['accuracy'])"
   ],
   "metadata": {
    "collapsed": false,
    "pycharm": {
     "is_executing": true
    }
   }
  },
  {
   "cell_type": "code",
   "execution_count": null,
   "outputs": [],
   "source": [
    "model.summary()"
   ],
   "metadata": {
    "collapsed": false,
    "pycharm": {
     "is_executing": true
    }
   }
  },
  {
   "cell_type": "code",
   "execution_count": null,
   "outputs": [],
   "source": [
    "train = model.fit(train_images, batch_size=batch_size, epochs=5, validation_data=val_images)"
   ],
   "metadata": {
    "collapsed": false,
    "pycharm": {
     "is_executing": true
    }
   }
  },
  {
   "cell_type": "code",
   "execution_count": null,
   "outputs": [],
   "source": [
    "result = model.evaluate(test_images)"
   ],
   "metadata": {
    "collapsed": false,
    "pycharm": {
     "is_executing": true
    }
   }
  },
  {
   "cell_type": "code",
   "execution_count": null,
   "outputs": [],
   "source": [
    "plt.plot(model.history.history['loss'])\n",
    "plt.title(\"Training loss\")\n",
    "plt.show()"
   ],
   "metadata": {
    "collapsed": false,
    "pycharm": {
     "is_executing": true
    }
   }
  },
  {
   "cell_type": "code",
   "execution_count": null,
   "outputs": [],
   "source": [],
   "metadata": {
    "collapsed": false,
    "pycharm": {
     "is_executing": true
    }
   }
  }
 ],
 "metadata": {
  "kernelspec": {
   "display_name": "Python 3",
   "language": "python",
   "name": "python3"
  },
  "language_info": {
   "codemirror_mode": {
    "name": "ipython",
    "version": 2
   },
   "file_extension": ".py",
   "mimetype": "text/x-python",
   "name": "python",
   "nbconvert_exporter": "python",
   "pygments_lexer": "ipython2",
   "version": "2.7.6"
  }
 },
 "nbformat": 4,
 "nbformat_minor": 0
}
