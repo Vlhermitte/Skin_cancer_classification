{
 "metadata": {
  "kernelspec": {
   "display_name": "Python 3",
   "language": "python",
   "name": "python3"
  },
  "language_info": {
   "name": "python",
   "version": "3.7.12",
   "mimetype": "text/x-python",
   "codemirror_mode": {
    "name": "ipython",
    "version": 3
   },
   "pygments_lexer": "ipython3",
   "nbconvert_exporter": "python",
   "file_extension": ".py"
  }
 },
 "nbformat_minor": 4,
 "nbformat": 4,
 "cells": [
  {
   "cell_type": "markdown",
   "source": [
    "# Get the data from :\n",
    "https://www.kaggle.com/datasets/farjanakabirsamanta/skin-cancer-dataset"
   ],
   "metadata": {}
  },
  {
   "cell_type": "code",
   "source": [
    "import tensorflow as tf\n",
    "import pandas as pd\n",
    "import matplotlib.pyplot as plt"
   ],
   "metadata": {
    "execution": {
     "iopub.status.busy": "2022-12-14T13:20:45.122150Z",
     "iopub.execute_input": "2022-12-14T13:20:45.122510Z",
     "iopub.status.idle": "2022-12-14T13:20:45.127845Z",
     "shell.execute_reply.started": "2022-12-14T13:20:45.122480Z",
     "shell.execute_reply": "2022-12-14T13:20:45.126654Z"
    },
    "trusted": true
   },
   "execution_count": 3,
   "outputs": []
  },
  {
   "cell_type": "code",
   "source": [
    "tf.__version__"
   ],
   "metadata": {
    "collapsed": false,
    "jupyter": {
     "outputs_hidden": false
    },
    "execution": {
     "iopub.status.busy": "2022-12-14T13:20:45.130440Z",
     "iopub.execute_input": "2022-12-14T13:20:45.130960Z",
     "iopub.status.idle": "2022-12-14T13:20:45.141945Z",
     "shell.execute_reply.started": "2022-12-14T13:20:45.130899Z",
     "shell.execute_reply": "2022-12-14T13:20:45.140893Z"
    },
    "trusted": true
   },
   "execution_count": 4,
   "outputs": [
    {
     "data": {
      "text/plain": "'2.10.0'"
     },
     "execution_count": 4,
     "metadata": {},
     "output_type": "execute_result"
    }
   ]
  },
  {
   "cell_type": "code",
   "source": [
    "tf.config.list_physical_devices()"
   ],
   "metadata": {
    "collapsed": false,
    "jupyter": {
     "outputs_hidden": false
    },
    "execution": {
     "iopub.status.busy": "2022-12-14T13:20:45.143813Z",
     "iopub.execute_input": "2022-12-14T13:20:45.144650Z",
     "iopub.status.idle": "2022-12-14T13:20:45.153856Z",
     "shell.execute_reply.started": "2022-12-14T13:20:45.144611Z",
     "shell.execute_reply": "2022-12-14T13:20:45.152897Z"
    },
    "trusted": true
   },
   "execution_count": 49,
   "outputs": [
    {
     "execution_count": 49,
     "output_type": "execute_result",
     "data": {
      "text/plain": "[PhysicalDevice(name='/physical_device:CPU:0', device_type='CPU'),\n PhysicalDevice(name='/physical_device:GPU:0', device_type='GPU'),\n PhysicalDevice(name='/physical_device:GPU:1', device_type='GPU')]"
     },
     "metadata": {}
    }
   ]
  },
  {
   "cell_type": "markdown",
   "source": [
    "# Matching the images to the csv file"
   ],
   "metadata": {}
  },
  {
   "cell_type": "code",
   "source": [
    "metadata = pd.read_csv(\"/kaggle/input/skin-cancer-dataset/HAM10000_metadata.csv\")"
   ],
   "metadata": {
    "collapsed": false,
    "jupyter": {
     "outputs_hidden": false
    },
    "execution": {
     "iopub.status.busy": "2022-12-14T13:20:45.155269Z",
     "iopub.execute_input": "2022-12-14T13:20:45.156093Z",
     "iopub.status.idle": "2022-12-14T13:20:45.183180Z",
     "shell.execute_reply.started": "2022-12-14T13:20:45.156049Z",
     "shell.execute_reply": "2022-12-14T13:20:45.182322Z"
    },
    "trusted": true
   },
   "execution_count": 50,
   "outputs": []
  },
  {
   "cell_type": "code",
   "source": [
    "metadata.dx.value_counts()"
   ],
   "metadata": {
    "collapsed": false,
    "jupyter": {
     "outputs_hidden": false
    },
    "execution": {
     "iopub.status.busy": "2022-12-14T13:20:45.186610Z",
     "iopub.execute_input": "2022-12-14T13:20:45.186867Z",
     "iopub.status.idle": "2022-12-14T13:20:45.198004Z",
     "shell.execute_reply.started": "2022-12-14T13:20:45.186843Z",
     "shell.execute_reply": "2022-12-14T13:20:45.196949Z"
    },
    "trusted": true
   },
   "execution_count": 51,
   "outputs": [
    {
     "execution_count": 51,
     "output_type": "execute_result",
     "data": {
      "text/plain": "nv       6705\nmel      1113\nbkl      1099\nbcc       514\nakiec     327\nvasc      142\ndf        115\nName: dx, dtype: int64"
     },
     "metadata": {}
    }
   ]
  },
  {
   "cell_type": "code",
   "source": [
    "metadata['filename']= metadata['image_id'] + '.jpg'"
   ],
   "metadata": {
    "collapsed": false,
    "jupyter": {
     "outputs_hidden": false
    },
    "execution": {
     "iopub.status.busy": "2022-12-14T13:20:45.199363Z",
     "iopub.execute_input": "2022-12-14T13:20:45.200086Z",
     "iopub.status.idle": "2022-12-14T13:20:45.207474Z",
     "shell.execute_reply.started": "2022-12-14T13:20:45.200037Z",
     "shell.execute_reply": "2022-12-14T13:20:45.206543Z"
    },
    "trusted": true
   },
   "execution_count": 52,
   "outputs": []
  },
  {
   "cell_type": "markdown",
   "source": [
    "# Importing the data to Tensorflow"
   ],
   "metadata": {}
  },
  {
   "cell_type": "code",
   "source": [
    "metadata"
   ],
   "metadata": {
    "collapsed": false,
    "jupyter": {
     "outputs_hidden": false
    },
    "execution": {
     "iopub.status.busy": "2022-12-14T13:20:45.208679Z",
     "iopub.execute_input": "2022-12-14T13:20:45.209493Z",
     "iopub.status.idle": "2022-12-14T13:20:45.232238Z",
     "shell.execute_reply.started": "2022-12-14T13:20:45.209458Z",
     "shell.execute_reply": "2022-12-14T13:20:45.231291Z"
    },
    "trusted": true
   },
   "execution_count": 53,
   "outputs": [
    {
     "execution_count": 53,
     "output_type": "execute_result",
     "data": {
      "text/plain": "         lesion_id      image_id     dx dx_type   age     sex localization  \\\n0      HAM_0000118  ISIC_0027419    bkl   histo  80.0    male        scalp   \n1      HAM_0000118  ISIC_0025030    bkl   histo  80.0    male        scalp   \n2      HAM_0002730  ISIC_0026769    bkl   histo  80.0    male        scalp   \n3      HAM_0002730  ISIC_0025661    bkl   histo  80.0    male        scalp   \n4      HAM_0001466  ISIC_0031633    bkl   histo  75.0    male          ear   \n...            ...           ...    ...     ...   ...     ...          ...   \n10010  HAM_0002867  ISIC_0033084  akiec   histo  40.0    male      abdomen   \n10011  HAM_0002867  ISIC_0033550  akiec   histo  40.0    male      abdomen   \n10012  HAM_0002867  ISIC_0033536  akiec   histo  40.0    male      abdomen   \n10013  HAM_0000239  ISIC_0032854  akiec   histo  80.0    male         face   \n10014  HAM_0003521  ISIC_0032258    mel   histo  70.0  female         back   \n\n               filename  \n0      ISIC_0027419.jpg  \n1      ISIC_0025030.jpg  \n2      ISIC_0026769.jpg  \n3      ISIC_0025661.jpg  \n4      ISIC_0031633.jpg  \n...                 ...  \n10010  ISIC_0033084.jpg  \n10011  ISIC_0033550.jpg  \n10012  ISIC_0033536.jpg  \n10013  ISIC_0032854.jpg  \n10014  ISIC_0032258.jpg  \n\n[10015 rows x 8 columns]",
      "text/html": "<div>\n<style scoped>\n    .dataframe tbody tr th:only-of-type {\n        vertical-align: middle;\n    }\n\n    .dataframe tbody tr th {\n        vertical-align: top;\n    }\n\n    .dataframe thead th {\n        text-align: right;\n    }\n</style>\n<table border=\"1\" class=\"dataframe\">\n  <thead>\n    <tr style=\"text-align: right;\">\n      <th></th>\n      <th>lesion_id</th>\n      <th>image_id</th>\n      <th>dx</th>\n      <th>dx_type</th>\n      <th>age</th>\n      <th>sex</th>\n      <th>localization</th>\n      <th>filename</th>\n    </tr>\n  </thead>\n  <tbody>\n    <tr>\n      <th>0</th>\n      <td>HAM_0000118</td>\n      <td>ISIC_0027419</td>\n      <td>bkl</td>\n      <td>histo</td>\n      <td>80.0</td>\n      <td>male</td>\n      <td>scalp</td>\n      <td>ISIC_0027419.jpg</td>\n    </tr>\n    <tr>\n      <th>1</th>\n      <td>HAM_0000118</td>\n      <td>ISIC_0025030</td>\n      <td>bkl</td>\n      <td>histo</td>\n      <td>80.0</td>\n      <td>male</td>\n      <td>scalp</td>\n      <td>ISIC_0025030.jpg</td>\n    </tr>\n    <tr>\n      <th>2</th>\n      <td>HAM_0002730</td>\n      <td>ISIC_0026769</td>\n      <td>bkl</td>\n      <td>histo</td>\n      <td>80.0</td>\n      <td>male</td>\n      <td>scalp</td>\n      <td>ISIC_0026769.jpg</td>\n    </tr>\n    <tr>\n      <th>3</th>\n      <td>HAM_0002730</td>\n      <td>ISIC_0025661</td>\n      <td>bkl</td>\n      <td>histo</td>\n      <td>80.0</td>\n      <td>male</td>\n      <td>scalp</td>\n      <td>ISIC_0025661.jpg</td>\n    </tr>\n    <tr>\n      <th>4</th>\n      <td>HAM_0001466</td>\n      <td>ISIC_0031633</td>\n      <td>bkl</td>\n      <td>histo</td>\n      <td>75.0</td>\n      <td>male</td>\n      <td>ear</td>\n      <td>ISIC_0031633.jpg</td>\n    </tr>\n    <tr>\n      <th>...</th>\n      <td>...</td>\n      <td>...</td>\n      <td>...</td>\n      <td>...</td>\n      <td>...</td>\n      <td>...</td>\n      <td>...</td>\n      <td>...</td>\n    </tr>\n    <tr>\n      <th>10010</th>\n      <td>HAM_0002867</td>\n      <td>ISIC_0033084</td>\n      <td>akiec</td>\n      <td>histo</td>\n      <td>40.0</td>\n      <td>male</td>\n      <td>abdomen</td>\n      <td>ISIC_0033084.jpg</td>\n    </tr>\n    <tr>\n      <th>10011</th>\n      <td>HAM_0002867</td>\n      <td>ISIC_0033550</td>\n      <td>akiec</td>\n      <td>histo</td>\n      <td>40.0</td>\n      <td>male</td>\n      <td>abdomen</td>\n      <td>ISIC_0033550.jpg</td>\n    </tr>\n    <tr>\n      <th>10012</th>\n      <td>HAM_0002867</td>\n      <td>ISIC_0033536</td>\n      <td>akiec</td>\n      <td>histo</td>\n      <td>40.0</td>\n      <td>male</td>\n      <td>abdomen</td>\n      <td>ISIC_0033536.jpg</td>\n    </tr>\n    <tr>\n      <th>10013</th>\n      <td>HAM_0000239</td>\n      <td>ISIC_0032854</td>\n      <td>akiec</td>\n      <td>histo</td>\n      <td>80.0</td>\n      <td>male</td>\n      <td>face</td>\n      <td>ISIC_0032854.jpg</td>\n    </tr>\n    <tr>\n      <th>10014</th>\n      <td>HAM_0003521</td>\n      <td>ISIC_0032258</td>\n      <td>mel</td>\n      <td>histo</td>\n      <td>70.0</td>\n      <td>female</td>\n      <td>back</td>\n      <td>ISIC_0032258.jpg</td>\n    </tr>\n  </tbody>\n</table>\n<p>10015 rows × 8 columns</p>\n</div>"
     },
     "metadata": {}
    }
   ]
  },
  {
   "cell_type": "code",
   "source": [
    "from sklearn.model_selection import train_test_split"
   ],
   "metadata": {
    "collapsed": false,
    "jupyter": {
     "outputs_hidden": false
    },
    "execution": {
     "iopub.status.busy": "2022-12-14T13:20:45.233921Z",
     "iopub.execute_input": "2022-12-14T13:20:45.234870Z",
     "iopub.status.idle": "2022-12-14T13:20:45.241105Z",
     "shell.execute_reply.started": "2022-12-14T13:20:45.234821Z",
     "shell.execute_reply": "2022-12-14T13:20:45.240237Z"
    },
    "trusted": true
   },
   "execution_count": 54,
   "outputs": []
  },
  {
   "cell_type": "code",
   "source": [
    "train_df, test_df = train_test_split(metadata, test_size=0.1)"
   ],
   "metadata": {
    "collapsed": false,
    "jupyter": {
     "outputs_hidden": false
    },
    "execution": {
     "iopub.status.busy": "2022-12-14T13:20:45.242562Z",
     "iopub.execute_input": "2022-12-14T13:20:45.243286Z",
     "iopub.status.idle": "2022-12-14T13:20:45.255855Z",
     "shell.execute_reply.started": "2022-12-14T13:20:45.243251Z",
     "shell.execute_reply": "2022-12-14T13:20:45.254961Z"
    },
    "trusted": true
   },
   "execution_count": 55,
   "outputs": []
  },
  {
   "cell_type": "code",
   "source": [
    "train_df"
   ],
   "metadata": {
    "collapsed": false,
    "jupyter": {
     "outputs_hidden": false
    },
    "execution": {
     "iopub.status.busy": "2022-12-14T13:20:45.261034Z",
     "iopub.execute_input": "2022-12-14T13:20:45.262757Z",
     "iopub.status.idle": "2022-12-14T13:20:45.284353Z",
     "shell.execute_reply.started": "2022-12-14T13:20:45.262730Z",
     "shell.execute_reply": "2022-12-14T13:20:45.282499Z"
    },
    "trusted": true
   },
   "execution_count": 56,
   "outputs": [
    {
     "execution_count": 56,
     "output_type": "execute_result",
     "data": {
      "text/plain": "        lesion_id      image_id   dx    dx_type   age     sex  \\\n7115  HAM_0006268  ISIC_0026432   nv      histo  50.0  female   \n9656  HAM_0002408  ISIC_0031454   nv  consensus  65.0    male   \n5389  HAM_0004137  ISIC_0024966   nv  follow_up  45.0  female   \n1463  HAM_0006435  ISIC_0034071  mel      histo  50.0    male   \n8004  HAM_0003033  ISIC_0025970   nv      histo  60.0  female   \n...           ...           ...  ...        ...   ...     ...   \n5141  HAM_0002958  ISIC_0026088   nv  follow_up  45.0    male   \n2961  HAM_0005488  ISIC_0024931  bcc      histo  85.0    male   \n7364  HAM_0002244  ISIC_0032549   nv      histo  25.0  female   \n9644  HAM_0007069  ISIC_0031209   nv  consensus  50.0  female   \n2490  HAM_0003805  ISIC_0030446  bcc      histo  80.0  female   \n\n         localization          filename  \n7115  lower extremity  ISIC_0026432.jpg  \n9656             neck  ISIC_0031454.jpg  \n5389          abdomen  ISIC_0024966.jpg  \n1463             back  ISIC_0034071.jpg  \n8004  lower extremity  ISIC_0025970.jpg  \n...               ...               ...  \n5141             neck  ISIC_0026088.jpg  \n2961  upper extremity  ISIC_0024931.jpg  \n7364            chest  ISIC_0032549.jpg  \n9644  lower extremity  ISIC_0031209.jpg  \n2490            scalp  ISIC_0030446.jpg  \n\n[9013 rows x 8 columns]",
      "text/html": "<div>\n<style scoped>\n    .dataframe tbody tr th:only-of-type {\n        vertical-align: middle;\n    }\n\n    .dataframe tbody tr th {\n        vertical-align: top;\n    }\n\n    .dataframe thead th {\n        text-align: right;\n    }\n</style>\n<table border=\"1\" class=\"dataframe\">\n  <thead>\n    <tr style=\"text-align: right;\">\n      <th></th>\n      <th>lesion_id</th>\n      <th>image_id</th>\n      <th>dx</th>\n      <th>dx_type</th>\n      <th>age</th>\n      <th>sex</th>\n      <th>localization</th>\n      <th>filename</th>\n    </tr>\n  </thead>\n  <tbody>\n    <tr>\n      <th>7115</th>\n      <td>HAM_0006268</td>\n      <td>ISIC_0026432</td>\n      <td>nv</td>\n      <td>histo</td>\n      <td>50.0</td>\n      <td>female</td>\n      <td>lower extremity</td>\n      <td>ISIC_0026432.jpg</td>\n    </tr>\n    <tr>\n      <th>9656</th>\n      <td>HAM_0002408</td>\n      <td>ISIC_0031454</td>\n      <td>nv</td>\n      <td>consensus</td>\n      <td>65.0</td>\n      <td>male</td>\n      <td>neck</td>\n      <td>ISIC_0031454.jpg</td>\n    </tr>\n    <tr>\n      <th>5389</th>\n      <td>HAM_0004137</td>\n      <td>ISIC_0024966</td>\n      <td>nv</td>\n      <td>follow_up</td>\n      <td>45.0</td>\n      <td>female</td>\n      <td>abdomen</td>\n      <td>ISIC_0024966.jpg</td>\n    </tr>\n    <tr>\n      <th>1463</th>\n      <td>HAM_0006435</td>\n      <td>ISIC_0034071</td>\n      <td>mel</td>\n      <td>histo</td>\n      <td>50.0</td>\n      <td>male</td>\n      <td>back</td>\n      <td>ISIC_0034071.jpg</td>\n    </tr>\n    <tr>\n      <th>8004</th>\n      <td>HAM_0003033</td>\n      <td>ISIC_0025970</td>\n      <td>nv</td>\n      <td>histo</td>\n      <td>60.0</td>\n      <td>female</td>\n      <td>lower extremity</td>\n      <td>ISIC_0025970.jpg</td>\n    </tr>\n    <tr>\n      <th>...</th>\n      <td>...</td>\n      <td>...</td>\n      <td>...</td>\n      <td>...</td>\n      <td>...</td>\n      <td>...</td>\n      <td>...</td>\n      <td>...</td>\n    </tr>\n    <tr>\n      <th>5141</th>\n      <td>HAM_0002958</td>\n      <td>ISIC_0026088</td>\n      <td>nv</td>\n      <td>follow_up</td>\n      <td>45.0</td>\n      <td>male</td>\n      <td>neck</td>\n      <td>ISIC_0026088.jpg</td>\n    </tr>\n    <tr>\n      <th>2961</th>\n      <td>HAM_0005488</td>\n      <td>ISIC_0024931</td>\n      <td>bcc</td>\n      <td>histo</td>\n      <td>85.0</td>\n      <td>male</td>\n      <td>upper extremity</td>\n      <td>ISIC_0024931.jpg</td>\n    </tr>\n    <tr>\n      <th>7364</th>\n      <td>HAM_0002244</td>\n      <td>ISIC_0032549</td>\n      <td>nv</td>\n      <td>histo</td>\n      <td>25.0</td>\n      <td>female</td>\n      <td>chest</td>\n      <td>ISIC_0032549.jpg</td>\n    </tr>\n    <tr>\n      <th>9644</th>\n      <td>HAM_0007069</td>\n      <td>ISIC_0031209</td>\n      <td>nv</td>\n      <td>consensus</td>\n      <td>50.0</td>\n      <td>female</td>\n      <td>lower extremity</td>\n      <td>ISIC_0031209.jpg</td>\n    </tr>\n    <tr>\n      <th>2490</th>\n      <td>HAM_0003805</td>\n      <td>ISIC_0030446</td>\n      <td>bcc</td>\n      <td>histo</td>\n      <td>80.0</td>\n      <td>female</td>\n      <td>scalp</td>\n      <td>ISIC_0030446.jpg</td>\n    </tr>\n  </tbody>\n</table>\n<p>9013 rows × 8 columns</p>\n</div>"
     },
     "metadata": {}
    }
   ]
  },
  {
   "cell_type": "code",
   "source": [
    "test_df"
   ],
   "metadata": {
    "collapsed": false,
    "jupyter": {
     "outputs_hidden": false
    },
    "execution": {
     "iopub.status.busy": "2022-12-14T13:20:45.286400Z",
     "iopub.execute_input": "2022-12-14T13:20:45.286850Z",
     "iopub.status.idle": "2022-12-14T13:20:45.307508Z",
     "shell.execute_reply.started": "2022-12-14T13:20:45.286816Z",
     "shell.execute_reply": "2022-12-14T13:20:45.306489Z"
    },
    "trusted": true
   },
   "execution_count": 57,
   "outputs": [
    {
     "execution_count": 57,
     "output_type": "execute_result",
     "data": {
      "text/plain": "        lesion_id      image_id   dx    dx_type   age      sex  \\\n5715  HAM_0002406  ISIC_0030568   nv  follow_up  50.0   female   \n1136  HAM_0004371  ISIC_0027626   df      histo  45.0   female   \n1021  HAM_0003973  ISIC_0026867  bkl  consensus  55.0     male   \n7019  HAM_0006605  ISIC_0026055   nv      histo  50.0   female   \n6303  HAM_0004611  ISIC_0027716   nv  follow_up  50.0     male   \n...           ...           ...  ...        ...   ...      ...   \n98    HAM_0003007  ISIC_0028080  bkl      histo  40.0   female   \n7198  HAM_0005116  ISIC_0032953   nv      histo   5.0   female   \n9615  HAM_0003696  ISIC_0032945   nv  consensus   NaN  unknown   \n7865  HAM_0004118  ISIC_0032593   nv      histo  30.0   female   \n6937  HAM_0005227  ISIC_0027768   nv      histo  75.0     male   \n\n         localization          filename  \n5715  upper extremity  ISIC_0030568.jpg  \n1136  upper extremity  ISIC_0027626.jpg  \n1021            trunk  ISIC_0026867.jpg  \n7019             neck  ISIC_0026055.jpg  \n6303            trunk  ISIC_0027716.jpg  \n...               ...               ...  \n98            abdomen  ISIC_0028080.jpg  \n7198  lower extremity  ISIC_0032953.jpg  \n9615          unknown  ISIC_0032945.jpg  \n7865            trunk  ISIC_0032593.jpg  \n6937             face  ISIC_0027768.jpg  \n\n[1002 rows x 8 columns]",
      "text/html": "<div>\n<style scoped>\n    .dataframe tbody tr th:only-of-type {\n        vertical-align: middle;\n    }\n\n    .dataframe tbody tr th {\n        vertical-align: top;\n    }\n\n    .dataframe thead th {\n        text-align: right;\n    }\n</style>\n<table border=\"1\" class=\"dataframe\">\n  <thead>\n    <tr style=\"text-align: right;\">\n      <th></th>\n      <th>lesion_id</th>\n      <th>image_id</th>\n      <th>dx</th>\n      <th>dx_type</th>\n      <th>age</th>\n      <th>sex</th>\n      <th>localization</th>\n      <th>filename</th>\n    </tr>\n  </thead>\n  <tbody>\n    <tr>\n      <th>5715</th>\n      <td>HAM_0002406</td>\n      <td>ISIC_0030568</td>\n      <td>nv</td>\n      <td>follow_up</td>\n      <td>50.0</td>\n      <td>female</td>\n      <td>upper extremity</td>\n      <td>ISIC_0030568.jpg</td>\n    </tr>\n    <tr>\n      <th>1136</th>\n      <td>HAM_0004371</td>\n      <td>ISIC_0027626</td>\n      <td>df</td>\n      <td>histo</td>\n      <td>45.0</td>\n      <td>female</td>\n      <td>upper extremity</td>\n      <td>ISIC_0027626.jpg</td>\n    </tr>\n    <tr>\n      <th>1021</th>\n      <td>HAM_0003973</td>\n      <td>ISIC_0026867</td>\n      <td>bkl</td>\n      <td>consensus</td>\n      <td>55.0</td>\n      <td>male</td>\n      <td>trunk</td>\n      <td>ISIC_0026867.jpg</td>\n    </tr>\n    <tr>\n      <th>7019</th>\n      <td>HAM_0006605</td>\n      <td>ISIC_0026055</td>\n      <td>nv</td>\n      <td>histo</td>\n      <td>50.0</td>\n      <td>female</td>\n      <td>neck</td>\n      <td>ISIC_0026055.jpg</td>\n    </tr>\n    <tr>\n      <th>6303</th>\n      <td>HAM_0004611</td>\n      <td>ISIC_0027716</td>\n      <td>nv</td>\n      <td>follow_up</td>\n      <td>50.0</td>\n      <td>male</td>\n      <td>trunk</td>\n      <td>ISIC_0027716.jpg</td>\n    </tr>\n    <tr>\n      <th>...</th>\n      <td>...</td>\n      <td>...</td>\n      <td>...</td>\n      <td>...</td>\n      <td>...</td>\n      <td>...</td>\n      <td>...</td>\n      <td>...</td>\n    </tr>\n    <tr>\n      <th>98</th>\n      <td>HAM_0003007</td>\n      <td>ISIC_0028080</td>\n      <td>bkl</td>\n      <td>histo</td>\n      <td>40.0</td>\n      <td>female</td>\n      <td>abdomen</td>\n      <td>ISIC_0028080.jpg</td>\n    </tr>\n    <tr>\n      <th>7198</th>\n      <td>HAM_0005116</td>\n      <td>ISIC_0032953</td>\n      <td>nv</td>\n      <td>histo</td>\n      <td>5.0</td>\n      <td>female</td>\n      <td>lower extremity</td>\n      <td>ISIC_0032953.jpg</td>\n    </tr>\n    <tr>\n      <th>9615</th>\n      <td>HAM_0003696</td>\n      <td>ISIC_0032945</td>\n      <td>nv</td>\n      <td>consensus</td>\n      <td>NaN</td>\n      <td>unknown</td>\n      <td>unknown</td>\n      <td>ISIC_0032945.jpg</td>\n    </tr>\n    <tr>\n      <th>7865</th>\n      <td>HAM_0004118</td>\n      <td>ISIC_0032593</td>\n      <td>nv</td>\n      <td>histo</td>\n      <td>30.0</td>\n      <td>female</td>\n      <td>trunk</td>\n      <td>ISIC_0032593.jpg</td>\n    </tr>\n    <tr>\n      <th>6937</th>\n      <td>HAM_0005227</td>\n      <td>ISIC_0027768</td>\n      <td>nv</td>\n      <td>histo</td>\n      <td>75.0</td>\n      <td>male</td>\n      <td>face</td>\n      <td>ISIC_0027768.jpg</td>\n    </tr>\n  </tbody>\n</table>\n<p>1002 rows × 8 columns</p>\n</div>"
     },
     "metadata": {}
    }
   ]
  },
  {
   "cell_type": "code",
   "source": [
    "dir_path = '/kaggle/input/skin-cancer-dataset/Skin Cancer/Skin Cancer/'"
   ],
   "metadata": {
    "collapsed": false,
    "jupyter": {
     "outputs_hidden": false
    },
    "execution": {
     "iopub.status.busy": "2022-12-14T13:20:45.310254Z",
     "iopub.execute_input": "2022-12-14T13:20:45.310721Z",
     "iopub.status.idle": "2022-12-14T13:20:45.317992Z",
     "shell.execute_reply.started": "2022-12-14T13:20:45.310684Z",
     "shell.execute_reply": "2022-12-14T13:20:45.317041Z"
    },
    "trusted": true
   },
   "execution_count": 58,
   "outputs": []
  },
  {
   "cell_type": "code",
   "source": [
    "# Create generators\n",
    "data_generator = tf.keras.preprocessing.image.ImageDataGenerator(rescale=1/255.0, validation_split=0.1)"
   ],
   "metadata": {
    "collapsed": false,
    "jupyter": {
     "outputs_hidden": false
    },
    "execution": {
     "iopub.status.busy": "2022-12-14T13:20:45.319490Z",
     "iopub.execute_input": "2022-12-14T13:20:45.319977Z",
     "iopub.status.idle": "2022-12-14T13:20:45.329699Z",
     "shell.execute_reply.started": "2022-12-14T13:20:45.319921Z",
     "shell.execute_reply": "2022-12-14T13:20:45.328839Z"
    },
    "trusted": true
   },
   "execution_count": 59,
   "outputs": []
  },
  {
   "cell_type": "code",
   "source": [
    "batch_size = 32\n",
    "target_size = (224, 224)"
   ],
   "metadata": {
    "collapsed": false,
    "jupyter": {
     "outputs_hidden": false
    },
    "execution": {
     "iopub.status.busy": "2022-12-14T13:20:45.330995Z",
     "iopub.execute_input": "2022-12-14T13:20:45.331491Z",
     "iopub.status.idle": "2022-12-14T13:20:45.340117Z",
     "shell.execute_reply.started": "2022-12-14T13:20:45.331458Z",
     "shell.execute_reply": "2022-12-14T13:20:45.339107Z"
    },
    "trusted": true
   },
   "execution_count": 60,
   "outputs": []
  },
  {
   "cell_type": "code",
   "source": [
    "# Flow image data\n",
    "train_images = data_generator.flow_from_dataframe(\n",
    "    dataframe=train_df,\n",
    "    directory=dir_path,\n",
    "    x_col='filename',\n",
    "    y_col='dx',\n",
    "    subset='training',\n",
    "    shuffle=True,\n",
    "    class_mode='categorical',\n",
    "    target_size=target_size,\n",
    ")\n",
    "\n",
    "val_images = data_generator.flow_from_dataframe(\n",
    "    dataframe=train_df,\n",
    "    directory=dir_path,\n",
    "    x_col='filename',\n",
    "    y_col='dx',\n",
    "    subset='validation',\n",
    "    shuffle=True,\n",
    "    class_mode='categorical',\n",
    "    target_size=target_size,\n",
    ")\n",
    "\n",
    "test_images = data_generator.flow_from_dataframe(\n",
    "    dataframe=test_df,\n",
    "    directory=dir_path,\n",
    "    x_col='filename',\n",
    "    y_col='dx',\n",
    "    class_mode='categorical',\n",
    "    target_size=target_size,\n",
    ")"
   ],
   "metadata": {
    "collapsed": false,
    "jupyter": {
     "outputs_hidden": false
    },
    "execution": {
     "iopub.status.busy": "2022-12-14T13:20:45.341686Z",
     "iopub.execute_input": "2022-12-14T13:20:45.342343Z",
     "iopub.status.idle": "2022-12-14T13:20:56.644983Z",
     "shell.execute_reply.started": "2022-12-14T13:20:45.342307Z",
     "shell.execute_reply": "2022-12-14T13:20:56.642560Z"
    },
    "trusted": true
   },
   "execution_count": 61,
   "outputs": [
    {
     "name": "stdout",
     "text": "Found 8112 validated image filenames belonging to 7 classes.\nFound 901 validated image filenames belonging to 7 classes.\nFound 1002 validated image filenames belonging to 7 classes.\n",
     "output_type": "stream"
    }
   ]
  },
  {
   "cell_type": "code",
   "source": [
    "class_names = list(train_images.class_indices.keys())\n",
    "class_names"
   ],
   "metadata": {
    "collapsed": false,
    "jupyter": {
     "outputs_hidden": false
    },
    "execution": {
     "iopub.status.busy": "2022-12-14T13:20:56.648682Z",
     "iopub.execute_input": "2022-12-14T13:20:56.652083Z",
     "iopub.status.idle": "2022-12-14T13:20:56.662253Z",
     "shell.execute_reply.started": "2022-12-14T13:20:56.652042Z",
     "shell.execute_reply": "2022-12-14T13:20:56.661392Z"
    },
    "trusted": true
   },
   "execution_count": 62,
   "outputs": [
    {
     "execution_count": 62,
     "output_type": "execute_result",
     "data": {
      "text/plain": "['akiec', 'bcc', 'bkl', 'df', 'mel', 'nv', 'vasc']"
     },
     "metadata": {}
    }
   ]
  },
  {
   "cell_type": "code",
   "source": [
    "train_images.next()[0].shape, train_images.next()[1].shape"
   ],
   "metadata": {
    "collapsed": false,
    "jupyter": {
     "outputs_hidden": false
    },
    "execution": {
     "iopub.status.busy": "2022-12-14T13:20:56.663832Z",
     "iopub.execute_input": "2022-12-14T13:20:56.664579Z",
     "iopub.status.idle": "2022-12-14T13:20:57.424839Z",
     "shell.execute_reply.started": "2022-12-14T13:20:56.664536Z",
     "shell.execute_reply": "2022-12-14T13:20:57.423717Z"
    },
    "trusted": true
   },
   "execution_count": 63,
   "outputs": [
    {
     "execution_count": 63,
     "output_type": "execute_result",
     "data": {
      "text/plain": "((32, 224, 224, 3), (32, 7))"
     },
     "metadata": {}
    }
   ]
  },
  {
   "cell_type": "code",
   "source": [
    "train_images.image_shape"
   ],
   "metadata": {
    "collapsed": false,
    "jupyter": {
     "outputs_hidden": false
    },
    "execution": {
     "iopub.status.busy": "2022-12-14T13:20:57.426633Z",
     "iopub.execute_input": "2022-12-14T13:20:57.427102Z",
     "iopub.status.idle": "2022-12-14T13:20:57.435038Z",
     "shell.execute_reply.started": "2022-12-14T13:20:57.427064Z",
     "shell.execute_reply": "2022-12-14T13:20:57.432965Z"
    },
    "trusted": true
   },
   "execution_count": 64,
   "outputs": [
    {
     "execution_count": 64,
     "output_type": "execute_result",
     "data": {
      "text/plain": "(224, 224, 3)"
     },
     "metadata": {}
    }
   ]
  },
  {
   "cell_type": "markdown",
   "source": [
    "### Function to plot some images"
   ],
   "metadata": {}
  },
  {
   "cell_type": "code",
   "source": [
    "def plot_images(train_images):\n",
    "    rows = 2\n",
    "    cols = 4\n",
    "    samples, labels = train_images[0]\n",
    "\n",
    "    plt.figure(figsize=(3.5 * cols, 3.5 * rows))\n",
    "    for i in range(rows * cols):\n",
    "        ax = plt.subplot(rows, cols, i + 1)\n",
    "        plt.imshow(samples[i], cmap='gray')\n",
    "        plt.title(f'Tumor : {class_names[int(labels[i][1])]}')\n",
    "        #plt.axis('off')\n",
    "    plt.show()"
   ],
   "metadata": {
    "collapsed": false,
    "jupyter": {
     "outputs_hidden": false
    },
    "execution": {
     "iopub.status.busy": "2022-12-14T13:20:57.436603Z",
     "iopub.execute_input": "2022-12-14T13:20:57.437654Z",
     "iopub.status.idle": "2022-12-14T13:20:57.446127Z",
     "shell.execute_reply.started": "2022-12-14T13:20:57.437618Z",
     "shell.execute_reply": "2022-12-14T13:20:57.445172Z"
    },
    "trusted": true
   },
   "execution_count": 65,
   "outputs": []
  },
  {
   "cell_type": "markdown",
   "source": [
    "# Now the CNN"
   ],
   "metadata": {}
  },
  {
   "cell_type": "code",
   "source": [
    "from keras import Sequential\n",
    "from keras.layers import Dense, Flatten, Dropout, GlobalAveragePooling2D, Input\n",
    "from keras.losses import CategoricalCrossentropy\n",
    "from tensorflow.keras.applications import ResNet50V2"
   ],
   "metadata": {
    "collapsed": false,
    "jupyter": {
     "outputs_hidden": false
    },
    "execution": {
     "iopub.status.busy": "2022-12-14T13:20:57.449247Z",
     "iopub.execute_input": "2022-12-14T13:20:57.449551Z",
     "iopub.status.idle": "2022-12-14T13:20:57.461680Z",
     "shell.execute_reply.started": "2022-12-14T13:20:57.449524Z",
     "shell.execute_reply": "2022-12-14T13:20:57.460751Z"
    },
    "trusted": true
   },
   "execution_count": 66,
   "outputs": []
  },
  {
   "cell_type": "code",
   "source": [
    "base_model = ResNet50V2(include_top=False, weights='imagenet')"
   ],
   "metadata": {
    "execution": {
     "iopub.status.busy": "2022-12-14T13:20:57.463203Z",
     "iopub.execute_input": "2022-12-14T13:20:57.463620Z",
     "iopub.status.idle": "2022-12-14T13:20:58.717094Z",
     "shell.execute_reply.started": "2022-12-14T13:20:57.463578Z",
     "shell.execute_reply": "2022-12-14T13:20:58.716090Z"
    },
    "trusted": true
   },
   "execution_count": 67,
   "outputs": []
  },
  {
   "cell_type": "code",
   "source": [
    "for layer in base_model.layers:\n",
    "    layer.trainable = False"
   ],
   "metadata": {
    "execution": {
     "iopub.status.busy": "2022-12-14T13:20:58.718522Z",
     "iopub.execute_input": "2022-12-14T13:20:58.718968Z",
     "iopub.status.idle": "2022-12-14T13:20:58.730352Z",
     "shell.execute_reply.started": "2022-12-14T13:20:58.718904Z",
     "shell.execute_reply": "2022-12-14T13:20:58.729215Z"
    },
    "trusted": true
   },
   "execution_count": 68,
   "outputs": []
  },
  {
   "cell_type": "code",
   "source": [
    "model = Sequential([\n",
    "    Input(train_images.image_shape),\n",
    "    base_model,\n",
    "    GlobalAveragePooling2D(),\n",
    "    Flatten(),\n",
    "    Dense(units=7, activation='softmax')\n",
    "])\n",
    "model.compile(optimizer='adam', loss=CategoricalCrossentropy(), metrics=['accuracy'])"
   ],
   "metadata": {
    "collapsed": false,
    "pycharm": {
     "is_executing": true
    },
    "jupyter": {
     "outputs_hidden": false
    },
    "execution": {
     "iopub.status.busy": "2022-12-14T13:20:58.732381Z",
     "iopub.execute_input": "2022-12-14T13:20:58.732820Z",
     "iopub.status.idle": "2022-12-14T13:20:59.102514Z",
     "shell.execute_reply.started": "2022-12-14T13:20:58.732783Z",
     "shell.execute_reply": "2022-12-14T13:20:59.101550Z"
    },
    "trusted": true
   },
   "execution_count": 69,
   "outputs": []
  },
  {
   "cell_type": "code",
   "source": [
    "model.summary()"
   ],
   "metadata": {
    "collapsed": false,
    "pycharm": {
     "is_executing": true
    },
    "jupyter": {
     "outputs_hidden": false
    },
    "execution": {
     "iopub.status.busy": "2022-12-14T13:21:20.593537Z",
     "iopub.execute_input": "2022-12-14T13:21:20.593906Z",
     "iopub.status.idle": "2022-12-14T13:21:20.618106Z",
     "shell.execute_reply.started": "2022-12-14T13:21:20.593874Z",
     "shell.execute_reply": "2022-12-14T13:21:20.616361Z"
    },
    "trusted": true
   },
   "execution_count": 71,
   "outputs": [
    {
     "name": "stdout",
     "text": "Model: \"sequential_2\"\n_________________________________________________________________\nLayer (type)                 Output Shape              Param #   \n=================================================================\nresnet50v2 (Functional)      (None, None, None, 2048)  23564800  \n_________________________________________________________________\nglobal_average_pooling2d_1 ( (None, 2048)              0         \n_________________________________________________________________\nflatten_2 (Flatten)          (None, 2048)              0         \n_________________________________________________________________\ndense_5 (Dense)              (None, 7)                 14343     \n=================================================================\nTotal params: 23,579,143\nTrainable params: 14,343\nNon-trainable params: 23,564,800\n_________________________________________________________________\n",
     "output_type": "stream"
    }
   ]
  },
  {
   "cell_type": "code",
   "source": [
    "train = model.fit(train_images, batch_size=batch_size, epochs=5, validation_data=val_images)"
   ],
   "metadata": {
    "collapsed": false,
    "pycharm": {
     "is_executing": true
    },
    "jupyter": {
     "outputs_hidden": false
    },
    "execution": {
     "iopub.status.busy": "2022-12-14T13:21:24.296810Z",
     "iopub.execute_input": "2022-12-14T13:21:24.297496Z",
     "iopub.status.idle": "2022-12-14T13:31:35.437492Z",
     "shell.execute_reply.started": "2022-12-14T13:21:24.297458Z",
     "shell.execute_reply": "2022-12-14T13:31:35.436470Z"
    },
    "trusted": true
   },
   "execution_count": 72,
   "outputs": [
    {
     "name": "stdout",
     "text": "Epoch 1/5\n254/254 [==============================] - 118s 454ms/step - loss: 0.8990 - accuracy: 0.6951 - val_loss: 0.7912 - val_accuracy: 0.7081\nEpoch 2/5\n254/254 [==============================] - 115s 452ms/step - loss: 0.6819 - accuracy: 0.7495 - val_loss: 0.7129 - val_accuracy: 0.7603\nEpoch 3/5\n254/254 [==============================] - 113s 447ms/step - loss: 0.6179 - accuracy: 0.7750 - val_loss: 0.6845 - val_accuracy: 0.7658\nEpoch 4/5\n254/254 [==============================] - 114s 449ms/step - loss: 0.5763 - accuracy: 0.7869 - val_loss: 0.6641 - val_accuracy: 0.7725\nEpoch 5/5\n254/254 [==============================] - 123s 483ms/step - loss: 0.5349 - accuracy: 0.8026 - val_loss: 0.6650 - val_accuracy: 0.7736\n",
     "output_type": "stream"
    }
   ]
  },
  {
   "cell_type": "code",
   "source": [
    "result = model.evaluate(test_images)"
   ],
   "metadata": {
    "collapsed": false,
    "pycharm": {
     "is_executing": true
    },
    "jupyter": {
     "outputs_hidden": false
    },
    "execution": {
     "iopub.status.busy": "2022-12-14T13:38:53.366300Z",
     "iopub.execute_input": "2022-12-14T13:38:53.367289Z",
     "iopub.status.idle": "2022-12-14T13:39:14.313045Z",
     "shell.execute_reply.started": "2022-12-14T13:38:53.367253Z",
     "shell.execute_reply": "2022-12-14T13:39:14.312016Z"
    },
    "trusted": true
   },
   "execution_count": 73,
   "outputs": [
    {
     "name": "stdout",
     "text": "32/32 [==============================] - 14s 418ms/step - loss: 0.6359 - accuracy: 0.7715\n",
     "output_type": "stream"
    }
   ]
  },
  {
   "cell_type": "code",
   "source": [
    "plt.plot(train.history['loss'])\n",
    "plt.title(\"Training loss\")\n",
    "plt.show()"
   ],
   "metadata": {
    "collapsed": false,
    "pycharm": {
     "is_executing": true
    },
    "jupyter": {
     "outputs_hidden": false
    },
    "execution": {
     "iopub.status.busy": "2022-12-14T13:39:14.316894Z",
     "iopub.execute_input": "2022-12-14T13:39:14.317215Z",
     "iopub.status.idle": "2022-12-14T13:39:14.514819Z",
     "shell.execute_reply.started": "2022-12-14T13:39:14.317186Z",
     "shell.execute_reply": "2022-12-14T13:39:14.513801Z"
    },
    "trusted": true
   },
   "execution_count": 74,
   "outputs": [
    {
     "output_type": "display_data",
     "data": {
      "text/plain": "<Figure size 432x288 with 1 Axes>",
      "image/png": "[encoded data removed]"
     },
     "metadata": {
      "needs_background": "light"
     }
    }
   ]
  },
  {
   "cell_type": "code",
   "source": [],
   "metadata": {
    "collapsed": false,
    "pycharm": {
     "is_executing": true
    },
    "jupyter": {
     "outputs_hidden": false
    }
   },
   "execution_count": null,
   "outputs": []
  }
 ]
}
